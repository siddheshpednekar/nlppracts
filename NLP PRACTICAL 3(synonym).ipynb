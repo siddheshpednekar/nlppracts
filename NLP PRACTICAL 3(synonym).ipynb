{
  "nbformat": 4,
  "nbformat_minor": 0,
  "metadata": {
    "colab": {
      "name": "practical NLP_3.ipunb",
      "provenance": []
    },
    "kernelspec": {
      "name": "python3",
      "display_name": "Python 3"
    },
    "language_info": {
      "name": "python"
    }
  },
  "cells": [
    {
      "cell_type": "code",
      "execution_count": null,
      "metadata": {
        "colab": {
          "base_uri": "https://localhost:8080/"
        },
        "id": "dKfsqWeLu3ZB",
        "outputId": "159edfc5-906c-4dc5-d688-61f2bc170972"
      },
      "outputs": [
        {
          "output_type": "stream",
          "name": "stderr",
          "text": [
            "[nltk_data] Downloading package wordnet to /root/nltk_data...\n",
            "[nltk_data]   Package wordnet is already up-to-date!\n",
            "[nltk_data] Downloading package omw-1.4 to /root/nltk_data...\n",
            "[nltk_data]   Package omw-1.4 is already up-to-date!\n"
          ]
        },
        {
          "output_type": "execute_result",
          "data": {
            "text/plain": [
              "True"
            ]
          },
          "metadata": {},
          "execution_count": 1
        }
      ],
      "source": [
        "import nltk   \n",
        "nltk.download('wordnet')\n",
        "from nltk.corpus import wordnet\n",
        "nltk.download('omw-1.4')"
      ]
    },
    {
      "cell_type": "code",
      "source": [
        "syn1 = wordnet.synsets('cookbook')[0]\n",
        "syn1.name()\n"
      ],
      "metadata": {
        "colab": {
          "base_uri": "https://localhost:8080/",
          "height": 35
        },
        "id": "Bou8MlYDvZli",
        "outputId": "a931fff5-1023-4c41-aec2-eee0fe7459df"
      },
      "execution_count": null,
      "outputs": [
        {
          "output_type": "execute_result",
          "data": {
            "text/plain": [
              "'cookbook.n.01'"
            ],
            "application/vnd.google.colaboratory.intrinsic+json": {
              "type": "string"
            }
          },
          "metadata": {},
          "execution_count": 2
        }
      ]
    },
    {
      "cell_type": "code",
      "source": [
        "wordnet.synsets('cookbook')[0].examples()"
      ],
      "metadata": {
        "colab": {
          "base_uri": "https://localhost:8080/"
        },
        "id": "IGA8JZsExhfL",
        "outputId": "a336c4a1-837c-4563-8235-48ff0b9774c4"
      },
      "execution_count": null,
      "outputs": [
        {
          "output_type": "execute_result",
          "data": {
            "text/plain": [
              "[]"
            ]
          },
          "metadata": {},
          "execution_count": 11
        }
      ]
    },
    {
      "cell_type": "code",
      "source": [
        "syn1.definition()"
      ],
      "metadata": {
        "colab": {
          "base_uri": "https://localhost:8080/",
          "height": 35
        },
        "id": "Uj2_oDerv1H6",
        "outputId": "54716370-c54b-4094-da86-e2421d930a1e"
      },
      "execution_count": null,
      "outputs": [
        {
          "output_type": "execute_result",
          "data": {
            "text/plain": [
              "'a book of recipes and cooking directions'"
            ],
            "application/vnd.google.colaboratory.intrinsic+json": {
              "type": "string"
            }
          },
          "metadata": {},
          "execution_count": 3
        }
      ]
    },
    {
      "cell_type": "code",
      "source": [
        "syn2 = wordnet.synsets('plane')[0]\n",
        "syn2.name()\n"
      ],
      "metadata": {
        "colab": {
          "base_uri": "https://localhost:8080/",
          "height": 35
        },
        "id": "r0oiEHVOwAYr",
        "outputId": "d676b560-64c0-4bb7-f5e7-84f9a2f35617"
      },
      "execution_count": null,
      "outputs": [
        {
          "output_type": "execute_result",
          "data": {
            "text/plain": [
              "'airplane.n.01'"
            ],
            "application/vnd.google.colaboratory.intrinsic+json": {
              "type": "string"
            }
          },
          "metadata": {},
          "execution_count": 4
        }
      ]
    },
    {
      "cell_type": "code",
      "source": [
        "wordnet.synsets('plane')[0].examples()"
      ],
      "metadata": {
        "colab": {
          "base_uri": "https://localhost:8080/"
        },
        "id": "bqj7Ui1mx32q",
        "outputId": "b0676252-ec2b-41de-e846-b9654bfadaca"
      },
      "execution_count": null,
      "outputs": [
        {
          "output_type": "execute_result",
          "data": {
            "text/plain": [
              "['the flight was delayed due to trouble with the airplane']"
            ]
          },
          "metadata": {},
          "execution_count": 12
        }
      ]
    },
    {
      "cell_type": "code",
      "source": [
        "syn2.definition()"
      ],
      "metadata": {
        "colab": {
          "base_uri": "https://localhost:8080/",
          "height": 35
        },
        "id": "XoIWgspxwheS",
        "outputId": "f837245b-e1d2-4de7-f026-da43a3b0024f"
      },
      "execution_count": null,
      "outputs": [
        {
          "output_type": "execute_result",
          "data": {
            "text/plain": [
              "'an aircraft that has a fixed wing and is powered by propellers or jets'"
            ],
            "application/vnd.google.colaboratory.intrinsic+json": {
              "type": "string"
            }
          },
          "metadata": {},
          "execution_count": 5
        }
      ]
    },
    {
      "cell_type": "code",
      "source": [
        "syn3 = wordnet.synsets('dog')[0]\n",
        "syn3.name()\n"
      ],
      "metadata": {
        "colab": {
          "base_uri": "https://localhost:8080/",
          "height": 35
        },
        "id": "ZiMU3rASwjMR",
        "outputId": "d52751d0-88b2-4648-e693-fff70c2be8aa"
      },
      "execution_count": null,
      "outputs": [
        {
          "output_type": "execute_result",
          "data": {
            "text/plain": [
              "'dog.n.01'"
            ],
            "application/vnd.google.colaboratory.intrinsic+json": {
              "type": "string"
            }
          },
          "metadata": {},
          "execution_count": 6
        }
      ]
    },
    {
      "cell_type": "code",
      "source": [
        "print(syn3.examples())"
      ],
      "metadata": {
        "colab": {
          "base_uri": "https://localhost:8080/"
        },
        "id": "-dWToGqIx9lB",
        "outputId": "80735784-da15-4b1b-f875-7d224b61ba37"
      },
      "execution_count": null,
      "outputs": [
        {
          "output_type": "stream",
          "name": "stdout",
          "text": [
            "['the dog barked all night']\n"
          ]
        }
      ]
    },
    {
      "cell_type": "code",
      "source": [
        "syn3.definition()"
      ],
      "metadata": {
        "colab": {
          "base_uri": "https://localhost:8080/",
          "height": 35
        },
        "id": "5_G3QqOBwmRx",
        "outputId": "417d3d03-3b47-431e-9a89-a9c78ea3fb20"
      },
      "execution_count": null,
      "outputs": [
        {
          "output_type": "execute_result",
          "data": {
            "text/plain": [
              "'a member of the genus Canis (probably descended from the common wolf) that has been domesticated by man since prehistoric times; occurs in many breeds'"
            ],
            "application/vnd.google.colaboratory.intrinsic+json": {
              "type": "string"
            }
          },
          "metadata": {},
          "execution_count": 7
        }
      ]
    },
    {
      "cell_type": "code",
      "source": [
        "syn4 = wordnet.synsets('colour')[0]\n",
        "syn4.name()\n"
      ],
      "metadata": {
        "colab": {
          "base_uri": "https://localhost:8080/",
          "height": 35
        },
        "id": "kWPIvj89wn3p",
        "outputId": "a2aa17e4-0fd1-415b-abc0-4cd120c3bc57"
      },
      "execution_count": null,
      "outputs": [
        {
          "output_type": "execute_result",
          "data": {
            "text/plain": [
              "'coloring_material.n.01'"
            ],
            "application/vnd.google.colaboratory.intrinsic+json": {
              "type": "string"
            }
          },
          "metadata": {},
          "execution_count": 16
        }
      ]
    },
    {
      "cell_type": "code",
      "source": [
        "print(syn4.examples())"
      ],
      "metadata": {
        "colab": {
          "base_uri": "https://localhost:8080/"
        },
        "id": "TqkRgrd9yJlR",
        "outputId": "3ddbef1a-e290-45d2-b072-22588f5f9e21"
      },
      "execution_count": null,
      "outputs": [
        {
          "output_type": "stream",
          "name": "stdout",
          "text": [
            "['she used a different color for the trim']\n"
          ]
        }
      ]
    },
    {
      "cell_type": "code",
      "source": [
        "syn4.definition()"
      ],
      "metadata": {
        "colab": {
          "base_uri": "https://localhost:8080/",
          "height": 35
        },
        "id": "VpN-6tULwrWo",
        "outputId": "f7a598c3-fde3-470c-ed03-06ebf0268d2e"
      },
      "execution_count": null,
      "outputs": [
        {
          "output_type": "execute_result",
          "data": {
            "text/plain": [
              "'any material used for its color'"
            ],
            "application/vnd.google.colaboratory.intrinsic+json": {
              "type": "string"
            }
          },
          "metadata": {},
          "execution_count": 9
        }
      ]
    },
    {
      "cell_type": "code",
      "source": [
        "syn1.hypernyms()\n"
      ],
      "metadata": {
        "colab": {
          "base_uri": "https://localhost:8080/"
        },
        "id": "Xia5QjI1wtg5",
        "outputId": "f053330a-c2ab-4e76-c3de-5844b820c0a0"
      },
      "execution_count": null,
      "outputs": [
        {
          "output_type": "execute_result",
          "data": {
            "text/plain": [
              "[Synset('reference_book.n.01')]"
            ]
          },
          "metadata": {},
          "execution_count": 22
        }
      ]
    },
    {
      "cell_type": "code",
      "source": [
        "syn1.hypernyms()[0].hyponyms()"
      ],
      "metadata": {
        "colab": {
          "base_uri": "https://localhost:8080/"
        },
        "id": "fSwZN20ZyztZ",
        "outputId": "c017164f-917d-4fbd-be6b-e471bf814d38"
      },
      "execution_count": null,
      "outputs": [
        {
          "output_type": "execute_result",
          "data": {
            "text/plain": [
              "[Synset('annual.n.02'),\n",
              " Synset('atlas.n.02'),\n",
              " Synset('cookbook.n.01'),\n",
              " Synset('directory.n.01'),\n",
              " Synset('encyclopedia.n.01'),\n",
              " Synset('handbook.n.01'),\n",
              " Synset('instruction_book.n.01'),\n",
              " Synset('source_book.n.01'),\n",
              " Synset('wordbook.n.01')]"
            ]
          },
          "metadata": {},
          "execution_count": 23
        }
      ]
    },
    {
      "cell_type": "code",
      "source": [
        "syn1.hypernym_paths()"
      ],
      "metadata": {
        "colab": {
          "base_uri": "https://localhost:8080/"
        },
        "id": "0ZHtDGxCzMlv",
        "outputId": "689c527f-6b35-4b7a-cb95-56f9c8e664b1"
      },
      "execution_count": null,
      "outputs": [
        {
          "output_type": "execute_result",
          "data": {
            "text/plain": [
              "[[Synset('entity.n.01'),\n",
              "  Synset('physical_entity.n.01'),\n",
              "  Synset('object.n.01'),\n",
              "  Synset('whole.n.02'),\n",
              "  Synset('artifact.n.01'),\n",
              "  Synset('creation.n.02'),\n",
              "  Synset('product.n.02'),\n",
              "  Synset('work.n.02'),\n",
              "  Synset('publication.n.01'),\n",
              "  Synset('book.n.01'),\n",
              "  Synset('reference_book.n.01'),\n",
              "  Synset('cookbook.n.01')]]"
            ]
          },
          "metadata": {},
          "execution_count": 27
        }
      ]
    },
    {
      "cell_type": "code",
      "source": [
        "syn1.pos()"
      ],
      "metadata": {
        "colab": {
          "base_uri": "https://localhost:8080/",
          "height": 35
        },
        "id": "XJ7D9i8zzXmX",
        "outputId": "47c6e12d-d6a9-436a-a0d7-e578d4d13b17"
      },
      "execution_count": null,
      "outputs": [
        {
          "output_type": "execute_result",
          "data": {
            "text/plain": [
              "'n'"
            ],
            "application/vnd.google.colaboratory.intrinsic+json": {
              "type": "string"
            }
          },
          "metadata": {},
          "execution_count": 26
        }
      ]
    },
    {
      "cell_type": "code",
      "source": [
        "syn2.hypernyms()"
      ],
      "metadata": {
        "colab": {
          "base_uri": "https://localhost:8080/"
        },
        "id": "2b-HDjF50-SP",
        "outputId": "518e2992-24ea-4222-8d36-47bcc885910c"
      },
      "execution_count": null,
      "outputs": [
        {
          "output_type": "execute_result",
          "data": {
            "text/plain": [
              "[Synset('heavier-than-air_craft.n.01')]"
            ]
          },
          "metadata": {},
          "execution_count": 37
        }
      ]
    },
    {
      "cell_type": "code",
      "source": [
        "syn2.hypernyms()[0].hyponyms()"
      ],
      "metadata": {
        "colab": {
          "base_uri": "https://localhost:8080/"
        },
        "id": "VJ1wQEh7zcb_",
        "outputId": "d0131826-e126-4048-c36c-ca8028b410b0"
      },
      "execution_count": null,
      "outputs": [
        {
          "output_type": "execute_result",
          "data": {
            "text/plain": [
              "[Synset('airplane.n.01'),\n",
              " Synset('autogiro.n.01'),\n",
              " Synset('drone.n.04'),\n",
              " Synset('glider.n.01'),\n",
              " Synset('helicopter.n.01'),\n",
              " Synset('orthopter.n.01'),\n",
              " Synset('warplane.n.01')]"
            ]
          },
          "metadata": {},
          "execution_count": 28
        }
      ]
    },
    {
      "cell_type": "code",
      "source": [
        "syn2.hypernym_paths()"
      ],
      "metadata": {
        "colab": {
          "base_uri": "https://localhost:8080/"
        },
        "id": "brdy6O2Oz16_",
        "outputId": "43d8e29f-f3e0-4b49-a640-9cec81bd5427"
      },
      "execution_count": null,
      "outputs": [
        {
          "output_type": "execute_result",
          "data": {
            "text/plain": [
              "[[Synset('entity.n.01'),\n",
              "  Synset('physical_entity.n.01'),\n",
              "  Synset('object.n.01'),\n",
              "  Synset('whole.n.02'),\n",
              "  Synset('artifact.n.01'),\n",
              "  Synset('instrumentality.n.03'),\n",
              "  Synset('conveyance.n.03'),\n",
              "  Synset('vehicle.n.01'),\n",
              "  Synset('craft.n.02'),\n",
              "  Synset('aircraft.n.01'),\n",
              "  Synset('heavier-than-air_craft.n.01'),\n",
              "  Synset('airplane.n.01')]]"
            ]
          },
          "metadata": {},
          "execution_count": 31
        }
      ]
    },
    {
      "cell_type": "code",
      "source": [
        "syn2.pos()"
      ],
      "metadata": {
        "colab": {
          "base_uri": "https://localhost:8080/",
          "height": 35
        },
        "id": "pgmt1bkl0pWm",
        "outputId": "fe7f7d86-eb86-4713-a64e-543d2631e996"
      },
      "execution_count": null,
      "outputs": [
        {
          "output_type": "execute_result",
          "data": {
            "text/plain": [
              "'n'"
            ],
            "application/vnd.google.colaboratory.intrinsic+json": {
              "type": "string"
            }
          },
          "metadata": {},
          "execution_count": 34
        }
      ]
    },
    {
      "cell_type": "code",
      "source": [
        "syn3.hypernyms()"
      ],
      "metadata": {
        "colab": {
          "base_uri": "https://localhost:8080/"
        },
        "id": "2fhSv_ao1FTf",
        "outputId": "141e61ac-5633-4fa4-ad50-b0fe43523f5f"
      },
      "execution_count": null,
      "outputs": [
        {
          "output_type": "execute_result",
          "data": {
            "text/plain": [
              "[Synset('canine.n.02'), Synset('domestic_animal.n.01')]"
            ]
          },
          "metadata": {},
          "execution_count": 38
        }
      ]
    },
    {
      "cell_type": "code",
      "source": [
        "syn3.hypernyms()[0].hyponyms()"
      ],
      "metadata": {
        "colab": {
          "base_uri": "https://localhost:8080/"
        },
        "id": "71M0X02izwmv",
        "outputId": "3298da98-1cc5-4835-9c8c-f807779dd846"
      },
      "execution_count": null,
      "outputs": [
        {
          "output_type": "execute_result",
          "data": {
            "text/plain": [
              "[Synset('bitch.n.04'),\n",
              " Synset('dog.n.01'),\n",
              " Synset('fox.n.01'),\n",
              " Synset('hyena.n.01'),\n",
              " Synset('jackal.n.01'),\n",
              " Synset('wild_dog.n.01'),\n",
              " Synset('wolf.n.01')]"
            ]
          },
          "metadata": {},
          "execution_count": 29
        }
      ]
    },
    {
      "cell_type": "code",
      "source": [
        "syn3.hypernym_paths()"
      ],
      "metadata": {
        "colab": {
          "base_uri": "https://localhost:8080/"
        },
        "id": "g7G_pLCX0cs-",
        "outputId": "a48d1bb8-2ae6-4801-9bb6-7fa1c63f597c"
      },
      "execution_count": null,
      "outputs": [
        {
          "output_type": "execute_result",
          "data": {
            "text/plain": [
              "[[Synset('entity.n.01'),\n",
              "  Synset('physical_entity.n.01'),\n",
              "  Synset('object.n.01'),\n",
              "  Synset('whole.n.02'),\n",
              "  Synset('living_thing.n.01'),\n",
              "  Synset('organism.n.01'),\n",
              "  Synset('animal.n.01'),\n",
              "  Synset('chordate.n.01'),\n",
              "  Synset('vertebrate.n.01'),\n",
              "  Synset('mammal.n.01'),\n",
              "  Synset('placental.n.01'),\n",
              "  Synset('carnivore.n.01'),\n",
              "  Synset('canine.n.02'),\n",
              "  Synset('dog.n.01')],\n",
              " [Synset('entity.n.01'),\n",
              "  Synset('physical_entity.n.01'),\n",
              "  Synset('object.n.01'),\n",
              "  Synset('whole.n.02'),\n",
              "  Synset('living_thing.n.01'),\n",
              "  Synset('organism.n.01'),\n",
              "  Synset('animal.n.01'),\n",
              "  Synset('domestic_animal.n.01'),\n",
              "  Synset('dog.n.01')]]"
            ]
          },
          "metadata": {},
          "execution_count": 32
        }
      ]
    },
    {
      "cell_type": "code",
      "source": [
        "syn3.pos()"
      ],
      "metadata": {
        "colab": {
          "base_uri": "https://localhost:8080/",
          "height": 35
        },
        "id": "CvloX2Tu0r62",
        "outputId": "4101bb3b-279f-41b0-83bd-e05da29dba5a"
      },
      "execution_count": null,
      "outputs": [
        {
          "output_type": "execute_result",
          "data": {
            "text/plain": [
              "'n'"
            ],
            "application/vnd.google.colaboratory.intrinsic+json": {
              "type": "string"
            }
          },
          "metadata": {},
          "execution_count": 35
        }
      ]
    },
    {
      "cell_type": "code",
      "source": [
        "syn4.hypernyms()"
      ],
      "metadata": {
        "colab": {
          "base_uri": "https://localhost:8080/"
        },
        "id": "kCHd049q1SGo",
        "outputId": "070519a0-b7fe-45e9-f2e6-079155b6b5ae"
      },
      "execution_count": null,
      "outputs": [
        {
          "output_type": "execute_result",
          "data": {
            "text/plain": [
              "[Synset('material.n.01')]"
            ]
          },
          "metadata": {},
          "execution_count": 39
        }
      ]
    },
    {
      "cell_type": "code",
      "source": [
        "syn4.hypernyms()[0].hyponyms()"
      ],
      "metadata": {
        "colab": {
          "base_uri": "https://localhost:8080/"
        },
        "id": "RnV4woGIzzsX",
        "outputId": "da28c438-3df8-459c-83d1-82a38dfc2590"
      },
      "execution_count": null,
      "outputs": [
        {
          "output_type": "execute_result",
          "data": {
            "text/plain": [
              "[Synset('abrasive.n.01'),\n",
              " Synset('adhesive_material.n.01'),\n",
              " Synset('aggregate.n.02'),\n",
              " Synset('ammunition.n.02'),\n",
              " Synset('animal_material.n.01'),\n",
              " Synset('atom.n.02'),\n",
              " Synset('ballast.n.01'),\n",
              " Synset('bedding_material.n.01'),\n",
              " Synset('bimetal.n.01'),\n",
              " Synset('builder.n.01'),\n",
              " Synset('chemical.n.01'),\n",
              " Synset('coloring_material.n.01'),\n",
              " Synset('composite_material.n.01'),\n",
              " Synset('conductor.n.02'),\n",
              " Synset('contaminant.n.01'),\n",
              " Synset('detritus.n.02'),\n",
              " Synset('diamagnet.n.01'),\n",
              " Synset('discharge.n.03'),\n",
              " Synset('dust.n.03'),\n",
              " Synset('earth.n.02'),\n",
              " Synset('elastomer.n.01'),\n",
              " Synset('fiber.n.01'),\n",
              " Synset('filling.n.01'),\n",
              " Synset('floccule.n.01'),\n",
              " Synset('fluff.n.01'),\n",
              " Synset('foam.n.02'),\n",
              " Synset('hazmat.n.01'),\n",
              " Synset('homogenate.n.01'),\n",
              " Synset('humate.n.01'),\n",
              " Synset('impregnation.n.01'),\n",
              " Synset('insulator.n.01'),\n",
              " Synset('mineral.n.01'),\n",
              " Synset('packing_material.n.01'),\n",
              " Synset('paper.n.01'),\n",
              " Synset('particulate.n.01'),\n",
              " Synset('plant_material.n.01'),\n",
              " Synset('precursor.n.01'),\n",
              " Synset('radioactive_material.n.01'),\n",
              " Synset('raw_material.n.01'),\n",
              " Synset('rind.n.01'),\n",
              " Synset('rock.n.02'),\n",
              " Synset('sealing_material.n.01'),\n",
              " Synset('sorbate.n.01'),\n",
              " Synset('sorbent.n.01'),\n",
              " Synset('thickening.n.01'),\n",
              " Synset('toner.n.02'),\n",
              " Synset('transparent_substance.n.01'),\n",
              " Synset('undercut.n.01'),\n",
              " Synset('vernix.n.01'),\n",
              " Synset('wad.n.01'),\n",
              " Synset('waste.n.01')]"
            ]
          },
          "metadata": {},
          "execution_count": 30
        }
      ]
    },
    {
      "cell_type": "code",
      "source": [
        "syn4.hypernym_paths()"
      ],
      "metadata": {
        "colab": {
          "base_uri": "https://localhost:8080/"
        },
        "id": "xRVGmvUx0m4G",
        "outputId": "74fb1b9e-dc15-41cb-be1b-7997856b9e54"
      },
      "execution_count": null,
      "outputs": [
        {
          "output_type": "execute_result",
          "data": {
            "text/plain": [
              "[[Synset('entity.n.01'),\n",
              "  Synset('physical_entity.n.01'),\n",
              "  Synset('matter.n.03'),\n",
              "  Synset('substance.n.01'),\n",
              "  Synset('material.n.01'),\n",
              "  Synset('coloring_material.n.01')],\n",
              " [Synset('entity.n.01'),\n",
              "  Synset('abstraction.n.06'),\n",
              "  Synset('relation.n.01'),\n",
              "  Synset('part.n.01'),\n",
              "  Synset('substance.n.01'),\n",
              "  Synset('material.n.01'),\n",
              "  Synset('coloring_material.n.01')]]"
            ]
          },
          "metadata": {},
          "execution_count": 33
        }
      ]
    },
    {
      "cell_type": "code",
      "source": [
        "syn4.pos()"
      ],
      "metadata": {
        "colab": {
          "base_uri": "https://localhost:8080/",
          "height": 35
        },
        "id": "7d9CeuTB0ucG",
        "outputId": "f26d1b6f-43b2-4539-8384-f377d1eccb3e"
      },
      "execution_count": null,
      "outputs": [
        {
          "output_type": "execute_result",
          "data": {
            "text/plain": [
              "'n'"
            ],
            "application/vnd.google.colaboratory.intrinsic+json": {
              "type": "string"
            }
          },
          "metadata": {},
          "execution_count": 36
        }
      ]
    },
    {
      "cell_type": "code",
      "source": [
        "#Find the measuring units from the following string\n",
        "import re\n",
        "text = \"speed/km wheat/kg\"\n",
        "re.findall(r'\\/(\\w+)',text)"
      ],
      "metadata": {
        "colab": {
          "base_uri": "https://localhost:8080/"
        },
        "id": "mXOB_jKU2p5H",
        "outputId": "74739454-1e98-4890-d351-5a8cb0e2ec07"
      },
      "execution_count": null,
      "outputs": [
        {
          "output_type": "execute_result",
          "data": {
            "text/plain": [
              "['km', 'kg']"
            ]
          },
          "metadata": {},
          "execution_count": 44
        }
      ]
    },
    {
      "cell_type": "code",
      "source": [
        "len(wordnet.synsets('great'))"
      ],
      "metadata": {
        "colab": {
          "base_uri": "https://localhost:8080/"
        },
        "id": "DN8Z9gUP0wae",
        "outputId": "7f2abae9-1122-495b-bddd-8b6ecd90c6b2"
      },
      "execution_count": null,
      "outputs": [
        {
          "output_type": "execute_result",
          "data": {
            "text/plain": [
              "7"
            ]
          },
          "metadata": {},
          "execution_count": 40
        }
      ]
    },
    {
      "cell_type": "code",
      "source": [
        "len(wordnet.synsets('great',pos='n'))"
      ],
      "metadata": {
        "colab": {
          "base_uri": "https://localhost:8080/"
        },
        "id": "0yB8T9HX11Xl",
        "outputId": "c6ddbca7-067b-4504-e725-f1f80746f977"
      },
      "execution_count": null,
      "outputs": [
        {
          "output_type": "execute_result",
          "data": {
            "text/plain": [
              "1"
            ]
          },
          "metadata": {},
          "execution_count": 41
        }
      ]
    },
    {
      "cell_type": "code",
      "source": [
        "len(wordnet.synsets('great',pos='v'))"
      ],
      "metadata": {
        "colab": {
          "base_uri": "https://localhost:8080/"
        },
        "id": "6NEKDBGj2DrF",
        "outputId": "dcf45434-ba70-4f4f-eedf-31ab5d62bcf9"
      },
      "execution_count": null,
      "outputs": [
        {
          "output_type": "execute_result",
          "data": {
            "text/plain": [
              "0"
            ]
          },
          "metadata": {},
          "execution_count": 42
        }
      ]
    },
    {
      "cell_type": "code",
      "source": [
        "#Get all the synonyms or thesaurus for given word.Also display the name and definition of each synonym.\n",
        "#Get all the hypernyms or hyponyms for given word.\n",
        "\n",
        "input1 = input('enter a word: ')\n",
        "\n",
        "\n",
        "synin = wordnet.synsets(input1)[0]\n",
        "print(synin)\n",
        "print(synin.name())\n",
        "print(synin.definition())\n"
      ],
      "metadata": {
        "colab": {
          "base_uri": "https://localhost:8080/"
        },
        "id": "_dFEgvVm2GAV",
        "outputId": "356e0e4a-9825-49d1-e4fc-e2d8c3ed820e"
      },
      "execution_count": null,
      "outputs": [
        {
          "output_type": "stream",
          "name": "stdout",
          "text": [
            "enter a word: dark\n",
            "Synset('dark.n.01')\n",
            "dark.n.01\n",
            "absence of light or illumination\n"
          ]
        }
      ]
    },
    {
      "cell_type": "code",
      "source": [
        "synop = wordnet.synsets('dark')[0]"
      ],
      "metadata": {
        "id": "RXDJ0Nzk_H7C"
      },
      "execution_count": null,
      "outputs": []
    },
    {
      "cell_type": "code",
      "source": [
        "synop.lemmas()[0].antonyms()"
      ],
      "metadata": {
        "colab": {
          "base_uri": "https://localhost:8080/"
        },
        "id": "b93yhgxq5o5b",
        "outputId": "6f560ce9-5f08-4cd2-9247-871a84d63ddd"
      },
      "execution_count": null,
      "outputs": [
        {
          "output_type": "execute_result",
          "data": {
            "text/plain": [
              "[Lemma('light.n.09.light')]"
            ]
          },
          "metadata": {},
          "execution_count": 66
        }
      ]
    },
    {
      "cell_type": "code",
      "source": [
        ""
      ],
      "metadata": {
        "id": "afMsrZS88QES"
      },
      "execution_count": null,
      "outputs": []
    }
  ]
}